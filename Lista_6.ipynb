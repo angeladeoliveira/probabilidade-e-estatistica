{
  "nbformat": 4,
  "nbformat_minor": 0,
  "metadata": {
    "colab": {
      "name": "Lista 6.ipynb",
      "provenance": [],
      "include_colab_link": true
    },
    "kernelspec": {
      "name": "python3",
      "display_name": "Python 3"
    }
  },
  "cells": [
    {
      "cell_type": "markdown",
      "metadata": {
        "id": "view-in-github",
        "colab_type": "text"
      },
      "source": [
        "<a href=\"https://colab.research.google.com/github/angeladeoliveira/probabilidade-e-estatistica/blob/master/Lista_6.ipynb\" target=\"_parent\"><img src=\"https://colab.research.google.com/assets/colab-badge.svg\" alt=\"Open In Colab\"/></a>"
      ]
    },
    {
      "cell_type": "code",
      "metadata": {
        "id": "IaS5vKXJX1ni"
      },
      "source": [
        "# Disciplina: Probabilidade e Estatística\n",
        "# Aluno: Ângela de Oliveira \n",
        "# Lista 6\n",
        "\n",
        "# QUESTÃO 1\n",
        "# Faça o cálculo do coeficiente r e confira o resultado encontrado\n",
        "\n",
        "import pandas as pd #importa a biblioteca panda para fazer o cálculo da correlação\n",
        "\n",
        "dados = {'apt_matematica': [60, 58, 73, 51, 54, 75, 48, 72, 75, 83, 62, 52], 'apt_musica':[80, 62, 70, 83, 62, 92, 79, 88, 54, 82, 64, 69]} #cria o dicionário com os dados de aptidão em matemática e música de cada criança\n",
        "r = pd.DataFrame(dados, columns = ['apt_matematica', 'apt_musica']) #prepara os dados para o cálculo da correlação\n",
        "resultado = r.corr() #faz o cálculo da correlação e armazena o resultado do coeficiente r na variável resultado\n",
        "print('Coeficiente r: \\n\\n', resultado) #imprime o resultado\n"
      ],
      "execution_count": null,
      "outputs": []
    },
    {
      "cell_type": "code",
      "metadata": {
        "id": "DycQSeVFZuc0"
      },
      "source": [
        "# QUESTÃO 2\n",
        "# Numa amostra aleatória de n = 12 livros da Biblioteca Central, encontramos r = 0,207 entre a idade da edição e o número de páginas do livro.\n",
        "# a) O que se pode dizer com base no valor deste coeficiente de correlação?\n",
        "\n",
        "# Resposta: O valor de 'r' representa uma correção desprezível, pois está abaixo de 0,3. Isso quer dizer que não existe uma relação entre a idade da edição e o número de página do livro. \n",
        "# Por exemplo, não se pode falar que quanto mais antigo o livro, mais ou menos páginas ele tem, pois não existe uma relação entre essas duas variáveis.\n"
      ],
      "execution_count": null,
      "outputs": []
    },
    {
      "cell_type": "code",
      "metadata": {
        "id": "893PbBg7alYu"
      },
      "source": [
        "# QUESTÃO 3\n",
        "# Calcule e interprete o coeficiente de correlação\n",
        "\n",
        "import pandas as pd #importa a biblioteca panda para fazer o cálculo da correlação\n",
        "\n",
        "dados = {'anos_servico': [2, 3, 4, 5, 4, 6, 7, 8, 8, 10], 'n_clientes': [48, 50, 56, 52 ,43, 60, 62, 58, 64, 72]} #cria o dicionário com os dados de tempo de serviço e número de clientes\n",
        "r = pd.DataFrame(dados, columns = ['anos_servico', 'n_clientes']) #prepara os dados para o cálculo da correlação\n",
        "resultado = r.corr() #faz o cálculo da correlação e armazena o resultado do coeficiente r na variável resultado\n",
        "print('Coeficiente r: \\n\\n', resultado) #imprime o resultado\n",
        "print(\"\\nCom base no resultado de 'r', pode-se dizer que existe uma correlação forte e positiva entre o tempo de serviço e a quantidade de clientes. \\nOu seja, quanto maior o tempo de serviço, maior no número de clientes tende a ser.\") #imprime a análise do resultado"
      ],
      "execution_count": null,
      "outputs": []
    },
    {
      "cell_type": "code",
      "metadata": {
        "id": "gZ60ZenWcL9h"
      },
      "source": [
        "# QUESTÃO 4\n",
        "# Calcule o coeficiente de correlação\n",
        "\n",
        "import pandas as pd #importa a biblioteca panda para fazer o cálculo da correlação\n",
        "\n",
        "dados = {'renda_mensal': [12, 16, 18, 20, 28, 30, 40, 48, 50, 54], 'assistencia_medica':[7.2, 7.4, 7, 6.5, 6.6, 6.7, 6, 5.6, 6, 5.5]} #cria o dicionário com os dados de renda bruta mensal e porcentagem gasta com assistência médica\n",
        "r = pd.DataFrame(dados, columns = ['renda_mensal', 'assistencia_medica']) #prepara os dados para o cálculo da correlação\n",
        "resultado = r.corr() #faz o cálculo da correlação e armazena o resultado do coeficiente r na variável resultado\n",
        "print('Coeficiente r: \\n\\n', resultado) #imprime o resultado"
      ],
      "execution_count": null,
      "outputs": []
    },
    {
      "cell_type": "code",
      "metadata": {
        "id": "CLjyCoyPdOWm"
      },
      "source": [
        "# QUESTÃO 5\n",
        "# a) Calcule a média e o desvio padrão para cada conjunto de dados\n",
        "# b) Calcule o coeficiente de correlação para cada conjunto de dados\n",
        "\n",
        "import statistics\n",
        "\n",
        "x1 = [10, 8, 13, 9, 11, 14, 6, 4, 12, 7, 5] #cria uma lista com os valores de x no conjunto 1\n",
        "y1 = [8.04, 6.95, 7.58, 8.81, 8.33, 9.96, 7.24, 4.26, 10.84, 4.82, 5.68] #cria uma lista com os valores de y no conjunto 1\n",
        "x2 = [10, 8, 13, 9, 11, 14, 6, 4, 12, 7, 5] #cria uma lista com os valores de x no conjunto 2\n",
        "y2 = [9.14, 8.14, 8.74, 8.77, 9.26, 8.10, 6.13, 3.10, 9.13, 7.26, 4.74] #cria uma lista com os valores de y no conjunto 2\n",
        "x3 = [10, 8, 13, 9, 11, 14, 6, 4, 12, 7, 5] #cria uma lista com os valores de x no conjunto 3\n",
        "y3 = [7.46, 6.77, 12.74, 7.11, 7.81, 8.84, 6.08, 5.39, 8.15, 6.42, 5.73] #cria uma lista com os valores de y no conjunto 3\n",
        "x4 = [8, 8, 8, 8, 8, 8, 8, 19, 8, 8, 8] #cria uma lista com os valores de x no conjunto 4\n",
        "y4 = [6.58, 5.76, 7.71, 8.84, 8.47, 7.04, 5.25, 12.50, 5.56, 7.91, 6.89] #cria uma lista com os valores de y no conjunto 4\n",
        "\n",
        "media_simples_x1 = round(statistics.mean(x1),2) #calcula a média dos valores de x no conjunto 1\n",
        "desvio_padrao_x1 = round(statistics.stdev(x1),2) #calcula o desvio padrão dos valores de x no conjunto 1\n",
        "media_simples_x2 = round(statistics.mean(x2),2) #calcula a média dos valores de x no conjunto 2\n",
        "desvio_padrao_x2 = round(statistics.stdev(x2),2) #calcula o desvio padrão dos valores de x no conjunto 2\n",
        "media_simples_x3 = round(statistics.mean(x3),2) #calcula a média dos valores de x no conjunto 3\n",
        "desvio_padrao_x3 = round(statistics.stdev(x3),2) #calcula o desvio padrão dos valores de x no conjunto 3\n",
        "media_simples_x4 = round(statistics.mean(x4),2) #calcula a média dos valores de x no conjunto 4\n",
        "desvio_padrao_x4 = round(statistics.stdev(x4),2) #calcula o desvio padrão dos valores de x no conjunto 4\n",
        "media_simples_y1 = round(statistics.mean(y1),2) #calcula a média dos valores de y no conjunto 1\n",
        "desvio_padrao_y1 = round(statistics.stdev(y1),2) #calcula o desvio padrão dos valores de y no conjunto 1\n",
        "media_simples_y2 = round(statistics.mean(y2),2) #calcula a média dos valores de y no conjunto 2\n",
        "desvio_padrao_y2 = round(statistics.stdev(y2),2) #calcula o desvio padrão dos valores de y no conjunto 2\n",
        "media_simples_y3 = round(statistics.mean(y3),2) #calcula a média dos valores de y no conjunto 3\n",
        "desvio_padrao_y3 = round(statistics.stdev(y3),2) #calcula o desvio padrão dos valores de y no conjunto 3\n",
        "media_simples_y4 = round(statistics.mean(y4),2) #calcula a média dos valores de y no conjunto 4\n",
        "desvio_padrao_y4 = round(statistics.stdev(y4),2) #calcula o desvio padrão dos valores de y no conjunto 4\n",
        "\n",
        "print('Resposta da letra a:')\n",
        "print('\\nConjunto 1\\nMédia de x =', media_simples_x1, 'e Média de y =', media_simples_y1, '\\nDesvio padrão de x =', desvio_padrao_x1, 'e Desvio padrão de y =', desvio_padrao_y1) #imprime a média e o desvio padrão do conjunto 1\n",
        "print('\\nConjunto 2\\nMédia de x =', media_simples_x2, 'e Média de y =', media_simples_y2, '\\nDesvio padrão de x =', desvio_padrao_x2, 'e Desvio padrão de y =', desvio_padrao_y2) #imprime a média e o desvio padrão do conjunto 2\n",
        "print('\\nConjunto 3\\nMédia de x =', media_simples_x3, 'e Média de y =', media_simples_y3, '\\nDesvio padrão de x =', desvio_padrao_x3, 'e Desvio padrão de y =', desvio_padrao_y3) #imprime a média e o desvio padrão do conjunto 3\n",
        "print('\\nConjunto 4\\nMédia de x =', media_simples_x4, 'e Média de y =', media_simples_y4, '\\nDesvio padrão de x =', desvio_padrao_x4, 'e Desvio padrão de y =', desvio_padrao_y4) #imprime a média e o desvio padrão do conjunto 4\n",
        "\n",
        "import pandas as pd #importa a biblioteca panda para fazer o cálculo da correlação\n",
        "\n",
        "conjunto1 = {'x': x1, 'y': y1} #cria um dicionário com os valor de x e y no conjunto 1\n",
        "conjunto2 = {'x': x2, 'y': y2} #cria um dicionário com os valor de x e y no conjunto 2\n",
        "conjunto3 = {'x': x3, 'y': y3} #cria um dicionário com os valor de x e y no conjunto 3\n",
        "conjunto4 = {'x': x4, 'y': y4} #cria um dicionário com os valor de x e y no conjunto 4\n",
        "\n",
        "r1 = pd.DataFrame(conjunto1, columns = ['x', 'y']) #prepara os dados do conjunto 1 para o cálculo da correlação\n",
        "resultado1 = r1.corr() #faz o cálculo da correlação e armazena o resultado do coeficiente r na variável resultado\n",
        "r2 = pd.DataFrame(conjunto2, columns = ['x', 'y']) #prepara os dados do conjunto 2 para o cálculo da correlação\n",
        "resultado2 = r2.corr() #faz o cálculo da correlação e armazena o resultado do coeficiente r na variável resultado\n",
        "r3 = pd.DataFrame(conjunto3, columns = ['x', 'y']) #prepara os dados do conjunto 3 para o cálculo da correlação\n",
        "resultado3 = r3.corr() #faz o cálculo da correlação e armazena o resultado do coeficiente r na variável resultado\n",
        "r4 = pd.DataFrame(conjunto4, columns = ['x', 'y']) #prepara os dados do conjunto 4 para o cálculo da correlação\n",
        "resultado4 = r4.corr() #faz o cálculo da correlação e armazena o resultado do coeficiente r na variável resultado\n",
        "\n",
        "print('\\n\\nResposta da letra b:')\n",
        "print('\\nCoeficiente r do conjunto 1: \\n\\n', resultado1) #imprime o resultado do conjunto 1\n",
        "print('\\nCoeficiente r do conjunto 2: \\n\\n', resultado2) #imprime o resultado do conjunto 2\n",
        "print('\\nCoeficiente r do conjunto 3: \\n\\n', resultado3) #imprime o resultado do conjunto 3\n",
        "print('\\nCoeficiente r do conjunto 4: \\n\\n', resultado4) #imprime o resultado do conjunto 4"
      ],
      "execution_count": null,
      "outputs": []
    },
    {
      "cell_type": "code",
      "metadata": {
        "id": "2Ms2cy2-k1rr"
      },
      "source": [
        "# QUESTÃO 6\n",
        "# Calcule o coeficiente de correlação linear de Pearson nos três casos. O coeficiente confirma a impressão visual dos diagramas?\n",
        "\n",
        "import pandas as pd #importa a biblioteca panda para fazer o cálculo da correlação\n",
        "import seaborn as sn #importa a biblioteca seaborn\n",
        "import matplotlib.pyplot as plt #importa a biblioteca matplotlib.pyplot\n",
        "\n",
        "dados = {'produtividade': [100, 102, 105, 108, 112, 120], 'alimentacao':[4, 5, 1, 3, 6, 2], 'exercicios':[1, 3, 2, 4, 5, 6], 'rodizio':[3, 1, 2, 6, 4, 5]} #cria um dicionários com os dados de produtividade, alimentação, exercicios e rodízio\n",
        "r = pd.DataFrame(dados, columns = ['produtividade', 'alimentacao', 'exercicios', 'rodizio']) #prepara os dados para o cálculo\n",
        "resultado = r.corr() #faz o cálculo da correlação\n",
        "print('Coeficiente r: \\n\\n', resultado) #imprime o resultado\n",
        "print('\\n\\n') #cria duas quebras de linha\n",
        "sn.heatmap(resultado, annot=True) #gera o mapa de calor da matriz de correlação\n",
        "plt.show() #mostra na tela o mapa de calor\n",
        "print('\\n\\nO mapa de calor confirma visualmente o coeficiente de Pearson para cada uma das correlações')"
      ],
      "execution_count": null,
      "outputs": []
    }
  ]
}
