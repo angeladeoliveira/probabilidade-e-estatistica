{
  "nbformat": 4,
  "nbformat_minor": 0,
  "metadata": {
    "colab": {
      "name": "20.08.26 - Aula 2.ipynb",
      "provenance": [],
      "authorship_tag": "ABX9TyOPeclktdCGPbQFlflM+MIH",
      "include_colab_link": true
    },
    "kernelspec": {
      "name": "python3",
      "display_name": "Python 3"
    }
  },
  "cells": [
    {
      "cell_type": "markdown",
      "metadata": {
        "id": "view-in-github",
        "colab_type": "text"
      },
      "source": [
        "<a href=\"https://colab.research.google.com/github/angeladeoliveira/probabilidade-e-estatistica/blob/master/20_08_26_Aula_2.ipynb\" target=\"_parent\"><img src=\"https://colab.research.google.com/assets/colab-badge.svg\" alt=\"Open In Colab\"/></a>"
      ]
    },
    {
      "cell_type": "code",
      "metadata": {
        "id": "2hVY0Vct9Pxg",
        "colab_type": "code",
        "colab": {
          "base_uri": "https://localhost:8080/",
          "height": 34
        },
        "outputId": "811a4101-42c3-489a-a707-b7d1b76c4564"
      },
      "source": [
        "Frase = 'asdfghjklasdfghjklasdfgh'\n",
        "vet = len(Frase)//2\n",
        "print(Frase[vet])"
      ],
      "execution_count": 3,
      "outputs": [
        {
          "output_type": "stream",
          "text": [
            "f\n"
          ],
          "name": "stdout"
        }
      ]
    },
    {
      "cell_type": "code",
      "metadata": {
        "id": "-n5S_yA9RTi_",
        "colab_type": "code",
        "colab": {
          "base_uri": "https://localhost:8080/",
          "height": 34
        },
        "outputId": "2b9c8b08-2b96-4c32-a1dd-8f5bb0821953"
      },
      "source": [
        "print(Frase[2:9:3])"
      ],
      "execution_count": 4,
      "outputs": [
        {
          "output_type": "stream",
          "text": [
            "dhl\n"
          ],
          "name": "stdout"
        }
      ]
    },
    {
      "cell_type": "code",
      "metadata": {
        "id": "rEMmfuz3Tq8s",
        "colab_type": "code",
        "colab": {
          "base_uri": "https://localhost:8080/",
          "height": 34
        },
        "outputId": "29d6e448-ba4a-40ca-d4b4-bc44890eb571"
      },
      "source": [
        "Txt1 = 'IESB'\n",
        "Txt2 = 'O' + Txt1[1:]\n",
        "print(Txt2)"
      ],
      "execution_count": 5,
      "outputs": [
        {
          "output_type": "stream",
          "text": [
            "OESB\n"
          ],
          "name": "stdout"
        }
      ]
    }
  ]
}