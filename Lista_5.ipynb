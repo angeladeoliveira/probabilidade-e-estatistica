{
  "nbformat": 4,
  "nbformat_minor": 0,
  "metadata": {
    "colab": {
      "name": "Lista 5.ipynb",
      "provenance": [],
      "include_colab_link": true
    },
    "kernelspec": {
      "name": "python3",
      "display_name": "Python 3"
    }
  },
  "cells": [
    {
      "cell_type": "markdown",
      "metadata": {
        "id": "view-in-github",
        "colab_type": "text"
      },
      "source": [
        "<a href=\"https://colab.research.google.com/github/angeladeoliveira/probabilidade-e-estatistica/blob/master/Lista_5.ipynb\" target=\"_parent\"><img src=\"https://colab.research.google.com/assets/colab-badge.svg\" alt=\"Open In Colab\"/></a>"
      ]
    },
    {
      "cell_type": "code",
      "metadata": {
        "id": "Eq2qu8K_vg93"
      },
      "source": [
        "# Disciplina: Probabilidade e Estatística\n",
        "# Aluna: Angela de Oliveira\n",
        "# Lista 5\n",
        "\n",
        "# EXERCÍCIO 1\n",
        "# Escreva em python uma lista com os valores mostrados acima e calcule:\n",
        "# a) Média aritmética simples;\n",
        "# b) Média harmônica;\n",
        "# c) Média geométrica;\n",
        "# d) Moda;\n",
        "# e) Variância;\n",
        "# f) Desvio padrão\n",
        "\n",
        "import statistics #importa a biblioteca de estatística\n",
        "from scipy.stats.mstats import gmean #importa a bibliioteca para calcular media geométrica\n",
        "\n",
        "\n",
        "lista = [10, 13, 17, 9, 8, 11, 13, 7] # lista com os valores do exercicio\n",
        "\n",
        "media_simples = statistics.mean(lista) #calcula a média aritmética simples\n",
        "media_harmonica = statistics.harmonic_mean(lista) #calcula a média harmônica\n",
        "media_geometrica = gmean(lista) #calcula a média geométrica\n",
        "moda = statistics.mode(lista) #calcula a moda\n",
        "variancia = statistics.variance(lista) #calcula a variância\n",
        "desvio_padrao = statistics.stdev(lista) #calcula o desvio padrão\n",
        "\n",
        "print('a) Média aritmética simples =', round(media_simples,2)) #imprime o valor da média simples, se tiver casa decimal aparece apenas as duas primeiras\n",
        "print('b) Média harmônica =', round(media_harmonica,2)) #imprime o valor da média harmônica, se tiver casa decimal aparece apenas as duas primeiras\n",
        "print('c) Média geométrica =', round(media_geometrica,2)) #imprime o valor da média geométrica, se tiver casa decimal aparece apenas as duas primeiras\n",
        "print('d) Moda =', moda) #imprime o valor da moda\n",
        "print('e) Variância =', round(variancia,2)) #imprime o valor da variância, se tiver casa decimal aparece apenas as duas primeiras\n",
        "print('f) Desvio padrão =', round(desvio_padrao,2)) #imprime o valor do desvio padrão, se tiver casa decimal aparece apenas as duas primeiras"
      ],
      "execution_count": null,
      "outputs": []
    },
    {
      "cell_type": "code",
      "metadata": {
        "id": "0cDSpJF0yMhm"
      },
      "source": [
        "# EXERCÍCIO 2\n",
        "# Escreva em python uma lista com os valores mostrados acima e calcule:\n",
        "# a) Média aritmética simples, harmônica e geométrica\n",
        "# b) Moda;\n",
        "# c) Mediana;\n",
        "# d) Variância;\n",
        "# e) Desvio padrão;\n",
        "\n",
        "import statistics #importa a biblioteca de estatística\n",
        "from scipy.stats.mstats import gmean #importa a bibliioteca para calcular media geométrica\n",
        "\n",
        "lista = [67, 75, 63, 72, 77, 78, 81, 77, 80] #cria a lista com os dados fornecidos\n",
        "\n",
        "media_simples = statistics.mean(lista) #calcula a média aritmética simples\n",
        "media_harmonica = statistics.harmonic_mean(lista) #calcula a média harmônica\n",
        "media_geometrica = gmean(lista) #calcula a média geométrica\n",
        "moda = statistics.mode(lista) #calcula a moda\n",
        "mediana = statistics.median(lista) #calcula a mediana\n",
        "variancia = statistics.variance(lista) #calcula a variância\n",
        "desvio_padrao = statistics.stdev(lista) #calcula o desvio padrão\n",
        "\n",
        "\n",
        "print('a) Média aritmética simples =', round(media_simples,2), '\\n Média harmônica =', round(media_harmonica,2), '\\n Média geométrica =', round(media_geometrica,2)) #imprime o valor das médias simples, harmônica e geométrica, se tiver casa decimal aparece apenas as duas primeiras\n",
        "print('b) Moda =', moda) #imprime o valor da moda\n",
        "print('c) Mediana =', round(mediana,2)) #imprime o valor da mediana, se tiver casa decimal aparece apenas as duas primeiras\n",
        "print('d) Variância =', round(variancia,2)) #imprime o valor da variância, se tiver casa decimal aparece apenas as duas primeiras\n",
        "print('e) Desvio padrão =', round(desvio_padrao,2)) #imprime o valor do desvio padrão, se tiver casa decimal aparece apenas as duas primeiras"
      ],
      "execution_count": null,
      "outputs": []
    },
    {
      "cell_type": "code",
      "metadata": {
        "id": "ITI7eZtH0PqG"
      },
      "source": [
        "# EXERCÍCIO 3\n",
        "# Calcule o coeficiente de variação desse conjunto de dados\n",
        "\n",
        "import statistics #importa a biblioteca de estatística\n",
        "\n",
        "lista = [4.0, 4.5, 5.0, 5.0, 5.0, 5.5, 6.0, 6.0, 6.5, 6.5, 6.5, 6.5, 7.0, 7.0, 7.0, 7.0, 7.0, 7.0, 7.5, 8.5, 9.0, 9.0, 9.0, 9.5, 10.0, 10.0, 10.5, 10.5, 11.0, 12.0, 12.5, 13.0, 13.0] #cria a lista com os dados fornecidos\n",
        "\n",
        "coeficiente_de_variação = (statistics.stdev(lista)/statistics.mean(lista))*100 #calcula o coeficiente de variação\n",
        "\n",
        "print('Coeficiente de variação =', round(coeficiente_de_variação, 2)) #imprime o coeficiente de variação com duas casas decimais"
      ],
      "execution_count": null,
      "outputs": []
    },
    {
      "cell_type": "code",
      "metadata": {
        "id": "0wt2YxFz10fl"
      },
      "source": [
        "#EXERCÍCIO 4\n",
        "# a) Calcule o valor da produção média\n",
        "# b) Calcule o valor da mediana da produção\n",
        "# c) Calcule o valor do desvio padrão da produção\n",
        "\n",
        "import statistics #importa a biblioteca de estatística\n",
        "\n",
        "lista = [12, 15, 18, 22, 17, 14, 18, 23, 29, 12] #cria a lista com os dados\n",
        "\n",
        "media_simples = statistics.mean(lista) #calcula a média aritmética simples\n",
        "mediana = statistics.median(lista) #calcula a mediana\n",
        "desvio_padrao = statistics.stdev(lista) #calcula o desvio padrão\n",
        "\n",
        "print('a) Produção média =', round(media_simples,2), 'ton.') #imprime o valor da média simples, se tiver casa decimal aparece apenas as duas primeiras\n",
        "print('b) Mediana da produção =', round(mediana,2), 'ton.') #imprime o valor da mediana, se tiver casa decimal aparece apenas as duas primeiras\n",
        "print('c) Desvio padrão da produção =', round(desvio_padrao,2)) #imprime o valor do desvio padrão, se tiver casa decimal aparece apenas as duas primeiras\n",
        "\n"
      ],
      "execution_count": null,
      "outputs": []
    },
    {
      "cell_type": "code",
      "metadata": {
        "id": "uBF-K0OF3OIq"
      },
      "source": [
        "# EXERCÍCIO 5\n",
        "# Escreva em Python um algoritmo que solicite para o usuário inserir\n",
        "# notas de alunos entre 0 e 10 em um loop infinito com condição de\n",
        "# parada uma nota igual a -999. A cada iteração valide que a nota seja\n",
        "# entre 0 e 10 e solicite uma nota correta em caso de erro.\n",
        "# Após obter todas as notas, o programa deve mostrar:\n",
        "# a) Média aritmética simples;\n",
        "# b) Média harmônica;\n",
        "# c) Média geométrica;\n",
        "# d) Moda;\n",
        "# e) Variância;\n",
        "# f) Desvio padrão;\n",
        "# g) Coeficiente de variância.\n",
        "\n",
        "import statistics #importa a biblioteca de estatística\n",
        "from scipy.stats.mstats import gmean #importa a bibliioteca para calcular media geométrica\n",
        "\n",
        "lista = [] #cria uma lista vazia onde serão armazenadas as notas\n",
        "\n",
        "while True: #inicia um loop infinito\n",
        "  nota = float(input('Digite uma nota de 0 a 10 ou -999 para sair: ')) #solicita a entrada de uma nota válida\n",
        "\n",
        "  if nota == -999: #se digitar a condição de parada\n",
        "    print('Programa finalizado') #aparece uma mensagem de que o programa está sendo finalizado\n",
        "    break #encerra o loop infinito\n",
        "  else: #se o número digitado não for uma condição de parada\n",
        "    if nota < 0 or nota > 10: #e for uma nota inválida\n",
        "      while True: #entra em um outro loop infinito\n",
        "        nota = float(input('Nota inválida. Digite uma nota de 0 a 10 ou -999 para sair: ')) #que solicita uma nota válida\n",
        "        if nota == -999: #se digitar a condição de parada\n",
        "          print('Programa finalizado') #aparece uma mensagem de que o programa está sendo finalizado\n",
        "          break #encerra o loop infinito\n",
        "        elif nota >= 0 and nota <= 10: #se a nota digitada for valida\n",
        "          lista.append(nota) #adiciona a nota à lista\n",
        "          break #sai do loop infinito de validação da nota\n",
        "    else: #se a nota digitada inicialmente for válida\n",
        "      lista.append(nota) #adiciona a nota à lista\n",
        "  \n",
        "  if nota == -999: #se no loop de validação digitar a condição de parada\n",
        "    break #encerra o loop infinito\n",
        "\n",
        "if len(lista) == 0: #se a lista estiver vazia\n",
        "  pass #o programa não faz nada\n",
        "else: #caso contrário segue com os calculos\n",
        "  media_simples = statistics.mean(lista) #calcula a média aritmética simples\n",
        "  media_harmonica = statistics.harmonic_mean(lista) #calcula a média harmônica\n",
        "  media_geometrica = gmean(lista) #calcula a média geométrica\n",
        "  variancia = statistics.variance(lista) #calcula a variância\n",
        "  desvio_padrao = statistics.stdev(lista) #calcula o desvio padrão\n",
        "  coeficiente_de_variação = (statistics.stdev(lista)/statistics.mean(lista))*100 #calcula o coeficiente de variação\n",
        "\n",
        "  try: #testa se é possível realizar o cálculo\n",
        "    moda = statistics.mode(lista) #calcula a moda\n",
        "  except: #caso de erro no cálculo da moda\n",
        "    moda = 'Moda inexistente' #atribui à variável moda o valor inexistente\n",
        "    \n",
        "  print('a) Média aritmética simples =', round(media_simples,2)) #imprime o valor da média simples, se tiver casa decimal aparece apenas as duas primeiras\n",
        "  print('b) Média harmônica =', round(media_harmonica,2)) #imprime o valor da média harmônica, se tiver casa decimal aparece apenas as duas primeiras\n",
        "  print('c) Média geométrica =', round(media_geometrica,2)) #imprime o valor da média geométrica, se tiver casa decimal aparece apenas as duas primeiras\n",
        "  print('d) Moda =', moda) #imprime o valor da moda\n",
        "  print('e) Variância =', round(variancia,2)) #imprime o valor da variância, se tiver casa decimal aparece apenas as duas primeiras\n",
        "  print('f) Desvio padrão =', round(desvio_padrao,2)) #imprime o valor do desvio padrão, se tiver casa decimal aparece apenas as duas primeiras\n",
        "  print('g) Coeficiente de variação =', round(coeficiente_de_variação, 2)) #imprime o coeficiente de variação com duas casas decimais  \n",
        "\n"
      ],
      "execution_count": null,
      "outputs": []
    },
    {
      "cell_type": "code",
      "metadata": {
        "id": "w5ObVIzI8FzF"
      },
      "source": [
        "# EXERCÍCIO 6\n",
        "# Escreva em Python um algoritmo que solicite para o usuário inserir 3\n",
        "# notas de um aluno (entre 0 e 10)\n",
        "# O programa deve calcular a média ponderada com os pesos 3, 4 e 3\n",
        "# para as 3 notas recebidas.\n",
        "\n",
        "lista = [] #cria uma lista vazia onde serão armazenadas as notas\n",
        "\n",
        "for _ in range(1,4): #loop de repetição para pedir as 3 notas\n",
        "  nota = float(input('Digite a nota '+ str(_) + ' (de 0 a 10): ')) #pede para  inserir a nota\n",
        "\n",
        "  if nota < 0 or nota > 10: #se a nota for inválida\n",
        "    while True: #cai em um loop infinito que vai pedir novamente a nota\n",
        "      nota = float(input('Nota inválida. Digite a nota ' + str(_) + ' (de 0 a 10): '))\n",
        "      if nota >= 0 and nota <= 10: #se a nota digitada novamente for válida\n",
        "        lista.append(nota) #adiciona a lista\n",
        "        break #e sai do loop infinito\n",
        "  else: #se a nota inicial for válida\n",
        "    lista.append(nota) #adiciona a nota à lista\n",
        "\n",
        "media_ponderada = (lista[0]*3 + lista[1]*4 + lista[2]*3)/(3+4+3) #calcula a média ponderada multiplicando cada nota pelo peso e dividindo pela soma dos pesos\n",
        "\n",
        "print('Média ponderada =', round(media_ponderada,2)) #imprime o valor da média ponderada, se tiver casa decimal aparece apenas as duas primeiras\n"
      ],
      "execution_count": null,
      "outputs": []
    }
  ]
}